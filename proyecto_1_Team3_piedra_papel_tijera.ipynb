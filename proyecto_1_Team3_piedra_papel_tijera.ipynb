{
 "cells": [
  {
   "cell_type": "code",
   "execution_count": 1,
   "metadata": {},
   "outputs": [],
   "source": [
    "import random"
   ]
  },
  {
   "cell_type": "code",
   "execution_count": 3,
   "metadata": {},
   "outputs": [
    {
     "name": "stdout",
     "output_type": "stream",
     "text": [
      "¡Partida ganada por el jugador!\n",
      "Partidas jugadas: 1\n",
      "El numero de partidas ganadas por el ordenador es 0 y el jug\n",
      "0 1\n",
      "¡Partida ganada por el jugador!\n",
      "Partidas jugadas: 2\n",
      "El numero de partidas ganadas por el ordenador es 0 y el jug\n",
      "0 2\n",
      "¡Partida ganada por el jugador!\n",
      "Partidas jugadas: 3\n",
      "El numero de partidas ganadas por el ordenador es 0 y el jug\n",
      "0 3\n"
     ]
    }
   ],
   "source": [
    "lista_opciones = [\"Piedra\",\"Papel\",\"Tijera\"]\n",
    "\n",
    "partidas_maximas = 3\n",
    "contador_jugador1 = 0\n",
    "contador_jugador2 = 0\n",
    "partida = 0\n",
    "\n",
    "ganador = max(contador_jugador1,contador_jugador2)\n",
    "\n",
    "\n",
    "while partida < partidas_maximas:\n",
    "    jugador2 = input(\"Elige para jugar Piedra, Papel, Tijera\").lower()\n",
    "    jugador1 = random.choice(lista_opciones).lower()\n",
    "  \n",
    "\n",
    "    if jugador1 == jugador2:\n",
    "        print(\"Es un empate\")\n",
    "    \n",
    "    elif (jugador1 == \"piedra\" and jugador2 == \"tijera\") or (jugador1 == \"papel\" and jugador2 == \"piedra\") or (jugador1 == \"tijera\" and jugador2 == \"papel\"):\n",
    "        \n",
    "        contador_jugador1 +=1 \n",
    "        print(\"¡Partida ganada por el ordenador!\")\n",
    "\n",
    "    else:\n",
    "        contador_jugador2 +=1\n",
    "        print(\"¡Partida ganada por el jugador!\")\n",
    "    \n",
    "    partida = contador_jugador1 + contador_jugador2\n",
    "\n",
    "\n",
    "    \n",
    "\n",
    "    print(f\"Partidas jugadas: {partida}\")\n",
    "\n",
    "print(\"El ganador es {}\")\n",
    "    \n",
    "   \n",
    "      "
   ]
  }
 ],
 "metadata": {
  "kernelspec": {
   "display_name": "Python 3",
   "language": "python",
   "name": "python3"
  },
  "language_info": {
   "codemirror_mode": {
    "name": "ipython",
    "version": 3
   },
   "file_extension": ".py",
   "mimetype": "text/x-python",
   "name": "python",
   "nbconvert_exporter": "python",
   "pygments_lexer": "ipython3",
   "version": "3.12.1"
  }
 },
 "nbformat": 4,
 "nbformat_minor": 2
}
