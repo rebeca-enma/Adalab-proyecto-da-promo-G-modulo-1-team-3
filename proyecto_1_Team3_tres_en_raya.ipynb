{
 "cells": [
  {
   "cell_type": "code",
   "execution_count": 1,
   "metadata": {},
   "outputs": [
    {
     "ename": "SyntaxError",
     "evalue": "invalid syntax (1775141126.py, line 3)",
     "output_type": "error",
     "traceback": [
      "\u001b[0;36m  File \u001b[0;32m\"/tmp/ipykernel_265/1775141126.py\"\u001b[0;36m, line \u001b[0;32m3\u001b[0m\n\u001b[0;31m    jugada= # Definir como meter los valores a la lista RECUERDA que lo que entra por imput es STR cambiar a INT\u001b[0m\n\u001b[0m            ^\u001b[0m\n\u001b[0;31mSyntaxError\u001b[0m\u001b[0;31m:\u001b[0m invalid syntax\n"
     ]
    }
   ],
   "source": [
    "jugar = True\n",
    "tablero = [[' ' for _ in range(3)] for _ in range(3)]\n",
    "jugada= # Definir como meter los valores a la lista RECUERDA que lo que entra por imput es STR cambiar a INT\n",
    "ficha_jugador1= \"X\"\n",
    "ficha_jugador2= \"O\"\n",
    "\n",
    "while jugar:\n",
    "\n",
    "    jugador1= input(\"JUGADOR 1 elige tu sitio en el tablero\") #¿Un imputo por fila y columna? o lo separo y lo asigno\n",
    "    jugador2 = input(\"Ahora JUGADOR 2 establece tu posicion\")\n",
    "\n",
    "        \n",
    "        if jugada[0][0] == jugada[0][1] and jugada[0][0] == jugada[0][2]:\n",
    "                if jugada[0][0] == ficha_jugador1:\n",
    "                    print(\"Enhorabuena ha ganado el JUGADOR 1 🎉\")\n",
    "                else:\n",
    "                    print(\"Enhorabuena ha ganado el JUGADOR 2 🏆\") \n",
    "\n",
    "        elif jugada[1][0] == jugada[1][1] and jugada[1][0] == jugada[1][2]:\n",
    "                if jugada[1][0] == ficha_jugador1:\n",
    "                    print(\"Enhorabuena ha ganado el JUGADOR 1 🎉\")\n",
    "                else:\n",
    "                    print(\"Enhorabuena ha ganado el JUGADOR 2 🏆\")\n",
    "\n",
    "        elif jugada[2][0] == jugada[2][1] and jugada[2][0] == jugada[2][2]:\n",
    "                if jugada[2][0] == ficha_jugador1:\n",
    "                    print(\"Enhorabuena ha ganado el JUGADOR 1 🎉\")\n",
    "                else:\n",
    "                    print(\"Enhorabuena ha ganado el JUGADOR 2 🏆\")\n",
    "                \n",
    "        elif jugada[0][0] == jugada[1][0] and jugada[0][0] == jugada[2][0]:\n",
    "                if jugada[0][0] == ficha_jugador1:\n",
    "                    print(\"Enhorabuena ha ganado el JUGADOR 1 🎉\")\n",
    "                else:\n",
    "                    print(\"Enhorabuena ha ganado el JUGADOR 2 🏆\")\n",
    "\n",
    "        elif jugada[0][1] == jugada[1][1] and jugada[0][1] == jugada[2][1]:\n",
    "                if jugada[0][0] == ficha_jugador1:\n",
    "                    print(\"Enhorabuena ha ganado el JUGADOR 1 🎉\")\n",
    "                else:\n",
    "                    print(\"Enhorabuena ha ganado el JUGADOR 2 🏆\")\n",
    "\n",
    "        elif jugada[0][2] == jugada[1][2] and jugada[0][2] == jugada[2][2]:\n",
    "                if jugada[0][2] == ficha_jugador1:\n",
    "                    print(\"Enhorabuena ha ganado el JUGADOR 1 🎉\")\n",
    "                else:\n",
    "                    print(\"Enhorabuena ha ganado el JUGADOR 2 🏆\")\n",
    "\n",
    "        elif jugada[0][0] == jugada[1][1] and jugada[0][0] == jugada[2][2]:\n",
    "                if jugada[0][2] == ficha_jugador1:\n",
    "                    print(\"Enhorabuena ha ganado el JUGADOR 1 🎉\")\n",
    "                else:\n",
    "                    print(\"Enhorabuena ha ganado el JUGADOR 2 🏆\")\n",
    "\n",
    "        elif jugada[0][2] == jugada[1][1] and jugada[0][2] == jugada[2][2]:\n",
    "                if jugada[0][2] == ficha_jugador1:\n",
    "                    print(\"Enhorabuena ha ganado el JUGADOR 1 🎉\")\n",
    "                else:\n",
    "                    print(\"Enhorabuena ha ganado el JUGADOR 2 🏆\")\n",
    "        \n",
    "        else:\n",
    "            print(\"Vaya, parece que los jugadores han quedado en tablas!😰\")\n",
    "\n",
    "\n",
    "\n",
    "\n",
    "\n",
    "\n",
    "\n",
    "\n",
    "\n",
    "\n",
    "\n",
    "\n"
   ]
  },
  {
   "cell_type": "code",
   "execution_count": 23,
   "metadata": {},
   "outputs": [
    {
     "name": "stdout",
     "output_type": "stream",
     "text": [
      "[' ', ' ', ' ']\n",
      "________________\n",
      "[' ', ' ', ' ']\n",
      "________________\n",
      "[' ', ' ', ' ']\n"
     ]
    }
   ],
   "source": [
    "print(tablero[0])\n",
    "print(\"________________\")\n",
    "print(tablero[1])\n",
    "print(\"________________\")\n",
    "print(tablero[2])"
   ]
  },
  {
   "cell_type": "code",
   "execution_count": null,
   "metadata": {},
   "outputs": [],
   "source": [
    "1. crear tablero (MEJORABLE)\n",
    "2. crear jugadores X y O (Programacion defensiva) \n",
    "3. posibilidades de ganar \n",
    "4. comprobar \n",
    "\n",
    "\n",
    "acceso a al tablero\n",
    "\n",
    "00 | 01 | 02\n",
    "______________\n",
    "10 | 11 | 12\n",
    "______________\n",
    "20 | 21 | 22\n",
    "\n",
    "\n",
    "turno_jugador1\n",
    "\n"
   ]
  },
  {
   "cell_type": "code",
   "execution_count": 11,
   "metadata": {},
   "outputs": [
    {
     "ename": "SyntaxError",
     "evalue": "invalid syntax (3624343104.py, line 6)",
     "output_type": "error",
     "traceback": [
      "\u001b[0;36m  File \u001b[0;32m\"/tmp/ipykernel_265/3624343104.py\"\u001b[0;36m, line \u001b[0;32m6\u001b[0m\n\u001b[0;31m    jugada_jugador1 = jugador1[0] jugador[1]\u001b[0m\n\u001b[0m                                  ^\u001b[0m\n\u001b[0;31mSyntaxError\u001b[0m\u001b[0;31m:\u001b[0m invalid syntax\n"
     ]
    }
   ],
   "source": [
    "jugador1= input(\"JUGADOR 1 elige tu sitio en el tablero\") #Devuelto un string / #Un string es una cadena de caracteres y puedo acceder por indice\n",
    "\n",
    "print(jugador1[0])\n",
    "print(jugador1[1])\n",
    "\n",
    "\n",
    "\n",
    "if jugador1:\n",
    "    \n",
    "    jugada[]\n",
    "\n",
    "print(jugada_jugador1)\n",
    "\n",
    "#Devuelve un STR\n",
    "# Que tengo que divivir y convertir a int y pasarlo como index de judada (asignarle ficha) y append a la lista tablero\n",
    "  \n",
    "\n",
    "_____________________ \n",
    "\n",
    "preguntar por fila y columna\n",
    "\n",
    "\n",
    "jugador1 = input(\"JUGADOR 1 elige tu sitio en el tablero\") #aqui no estas haciendo nada..\n",
    "fila_j1 = int(input(\"Introduce Fila\"))\n",
    "columna_j1 = int(input(\"Introduce Fila\"))\n",
    "\n",
    "tablero[fila_j1][columna_j1] = ficha_jugador1  # Actualizar el tablero con la jugada del jugador 1\n",
    "\n",
    "\n",
    "\n",
    "\n",
    "\n"
   ]
  },
  {
   "cell_type": "code",
   "execution_count": null,
   "metadata": {},
   "outputs": [],
   "source": []
  }
 ],
 "metadata": {
  "kernelspec": {
   "display_name": "base",
   "language": "python",
   "name": "python3"
  },
  "language_info": {
   "codemirror_mode": {
    "name": "ipython",
    "version": 3
   },
   "file_extension": ".py",
   "mimetype": "text/x-python",
   "name": "python",
   "nbconvert_exporter": "python",
   "pygments_lexer": "ipython3",
   "version": "3.9.7"
  }
 },
 "nbformat": 4,
 "nbformat_minor": 2
}
