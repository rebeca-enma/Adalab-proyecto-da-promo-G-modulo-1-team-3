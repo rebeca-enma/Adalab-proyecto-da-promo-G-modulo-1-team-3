{
 "cells": [
  {
   "cell_type": "code",
   "execution_count": null,
   "metadata": {},
   "outputs": [],
   "source": []
  },
  {
   "cell_type": "markdown",
   "metadata": {},
   "source": [
    "# Historia de cliente\n",
    "\n",
    "El cliente nos había solicitado **tres** juegos clásicos, de entre cuatro posibles (piedra, papel, tijera/ tres en raya / trivial geográfico / el ahorcada). Se trata de desarrolar juegos con una estructura sencilla que se puede implementar dentro de una estructura más grande. Son juegos entretenidos, breves, que todo el mundo conoce, cuya mecánica no hay que explicar y que no necesita que se incluyan instrucciones. Son juegos pensados para más jugadores pero que se pueden diseñar para que se pueda jugar al solitario. "
   ]
  }
 ],
 "metadata": {
  "language_info": {
   "name": "python"
  }
 },
 "nbformat": 4,
 "nbformat_minor": 2
}
