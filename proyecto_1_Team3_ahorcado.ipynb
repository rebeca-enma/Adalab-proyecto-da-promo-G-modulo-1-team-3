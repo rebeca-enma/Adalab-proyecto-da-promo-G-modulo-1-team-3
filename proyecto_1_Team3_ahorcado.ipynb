{
 "cells": [
  {
   "cell_type": "code",
   "execution_count": 4,
   "metadata": {},
   "outputs": [],
   "source": [
    "import string\n",
    "import random"
   ]
  },
  {
   "cell_type": "code",
   "execution_count": 18,
   "metadata": {},
   "outputs": [
    {
     "name": "stdout",
     "output_type": "stream",
     "text": [
      "------\n",
      "|  |\n",
      "|  O\n",
      "| /|\\\n",
      "| / \\\n",
      "|------\n",
      " ------\n",
      "|  |\n",
      "|  O\n",
      "| /|\\\n",
      "| / \n",
      "|------\n",
      " ------\n",
      "|  |\n",
      "|  O\n",
      "| /|\\\n",
      "| \n",
      "|------\n",
      " ------\n",
      "|  |\n",
      "|  O\n",
      "| /|\n",
      "| \n",
      "|------\n",
      " ------\n",
      "|  |\n",
      "|  O\n",
      "| /\n",
      "| \n",
      "|------\n",
      " ------\n",
      "|  |\n",
      "|  O\n",
      "| \n",
      "| \n",
      "|------\n",
      " ------\n",
      "|  |\n",
      "|  \n",
      "| \n",
      "| \n",
      "|------\n",
      "\n"
     ]
    },
    {
     "ename": "KeyboardInterrupt",
     "evalue": "Interrupted by user",
     "output_type": "error",
     "traceback": [
      "\u001b[1;31m---------------------------------------------------------------------------\u001b[0m",
      "\u001b[1;31mKeyboardInterrupt\u001b[0m                         Traceback (most recent call last)",
      "Cell \u001b[1;32mIn[18], line 41\u001b[0m\n\u001b[0;32m     22\u001b[0m \u001b[38;5;28mprint\u001b[39m(vidas[\u001b[38;5;241m0\u001b[39m],vidas[\u001b[38;5;241m1\u001b[39m],vidas[\u001b[38;5;241m2\u001b[39m],vidas[\u001b[38;5;241m3\u001b[39m],vidas[\u001b[38;5;241m4\u001b[39m],vidas[\u001b[38;5;241m5\u001b[39m],vidas[\u001b[38;5;241m6\u001b[39m])\n\u001b[0;32m     25\u001b[0m \u001b[38;5;28;01mwhile\u001b[39;00m continuar:\n\u001b[0;32m     26\u001b[0m \n\u001b[0;32m     27\u001b[0m   \u001b[38;5;66;03m# while vidas > 0:\u001b[39;00m\n\u001b[1;32m   (...)\u001b[0m\n\u001b[0;32m     39\u001b[0m \n\u001b[0;32m     40\u001b[0m     \u001b[38;5;66;03m#Preguntamos si quiere continuar, para comenzar de nuevo el juego\u001b[39;00m\n\u001b[1;32m---> 41\u001b[0m     respuesta_continuar\u001b[38;5;241m=\u001b[39m \u001b[38;5;28;43minput\u001b[39;49m\u001b[43m(\u001b[49m\u001b[38;5;124;43m\"\u001b[39;49m\u001b[38;5;124;43m¿Quieres seguir jugando, (S/N)?\u001b[39;49m\u001b[38;5;124;43m\"\u001b[39;49m\u001b[43m)\u001b[49m\n\u001b[0;32m     42\u001b[0m     continuar \u001b[38;5;241m=\u001b[39m respuesta_continuar \u001b[38;5;241m==\u001b[39m \u001b[38;5;124m\"\u001b[39m\u001b[38;5;124mS\u001b[39m\u001b[38;5;124m\"\u001b[39m\n",
      "File \u001b[1;32m~\\AppData\\Roaming\\Python\\Python312\\site-packages\\ipykernel\\kernelbase.py:1270\u001b[0m, in \u001b[0;36mKernel.raw_input\u001b[1;34m(self, prompt)\u001b[0m\n\u001b[0;32m   1268\u001b[0m     msg \u001b[38;5;241m=\u001b[39m \u001b[38;5;124m\"\u001b[39m\u001b[38;5;124mraw_input was called, but this frontend does not support input requests.\u001b[39m\u001b[38;5;124m\"\u001b[39m\n\u001b[0;32m   1269\u001b[0m     \u001b[38;5;28;01mraise\u001b[39;00m StdinNotImplementedError(msg)\n\u001b[1;32m-> 1270\u001b[0m \u001b[38;5;28;01mreturn\u001b[39;00m \u001b[38;5;28;43mself\u001b[39;49m\u001b[38;5;241;43m.\u001b[39;49m\u001b[43m_input_request\u001b[49m\u001b[43m(\u001b[49m\n\u001b[0;32m   1271\u001b[0m \u001b[43m    \u001b[49m\u001b[38;5;28;43mstr\u001b[39;49m\u001b[43m(\u001b[49m\u001b[43mprompt\u001b[49m\u001b[43m)\u001b[49m\u001b[43m,\u001b[49m\n\u001b[0;32m   1272\u001b[0m \u001b[43m    \u001b[49m\u001b[38;5;28;43mself\u001b[39;49m\u001b[38;5;241;43m.\u001b[39;49m\u001b[43m_parent_ident\u001b[49m\u001b[43m[\u001b[49m\u001b[38;5;124;43m\"\u001b[39;49m\u001b[38;5;124;43mshell\u001b[39;49m\u001b[38;5;124;43m\"\u001b[39;49m\u001b[43m]\u001b[49m\u001b[43m,\u001b[49m\n\u001b[0;32m   1273\u001b[0m \u001b[43m    \u001b[49m\u001b[38;5;28;43mself\u001b[39;49m\u001b[38;5;241;43m.\u001b[39;49m\u001b[43mget_parent\u001b[49m\u001b[43m(\u001b[49m\u001b[38;5;124;43m\"\u001b[39;49m\u001b[38;5;124;43mshell\u001b[39;49m\u001b[38;5;124;43m\"\u001b[39;49m\u001b[43m)\u001b[49m\u001b[43m,\u001b[49m\n\u001b[0;32m   1274\u001b[0m \u001b[43m    \u001b[49m\u001b[43mpassword\u001b[49m\u001b[38;5;241;43m=\u001b[39;49m\u001b[38;5;28;43;01mFalse\u001b[39;49;00m\u001b[43m,\u001b[49m\n\u001b[0;32m   1275\u001b[0m \u001b[43m\u001b[49m\u001b[43m)\u001b[49m\n",
      "File \u001b[1;32m~\\AppData\\Roaming\\Python\\Python312\\site-packages\\ipykernel\\kernelbase.py:1313\u001b[0m, in \u001b[0;36mKernel._input_request\u001b[1;34m(self, prompt, ident, parent, password)\u001b[0m\n\u001b[0;32m   1310\u001b[0m \u001b[38;5;28;01mexcept\u001b[39;00m \u001b[38;5;167;01mKeyboardInterrupt\u001b[39;00m:\n\u001b[0;32m   1311\u001b[0m     \u001b[38;5;66;03m# re-raise KeyboardInterrupt, to truncate traceback\u001b[39;00m\n\u001b[0;32m   1312\u001b[0m     msg \u001b[38;5;241m=\u001b[39m \u001b[38;5;124m\"\u001b[39m\u001b[38;5;124mInterrupted by user\u001b[39m\u001b[38;5;124m\"\u001b[39m\n\u001b[1;32m-> 1313\u001b[0m     \u001b[38;5;28;01mraise\u001b[39;00m \u001b[38;5;167;01mKeyboardInterrupt\u001b[39;00m(msg) \u001b[38;5;28;01mfrom\u001b[39;00m \u001b[38;5;28;01mNone\u001b[39;00m\n\u001b[0;32m   1314\u001b[0m \u001b[38;5;28;01mexcept\u001b[39;00m \u001b[38;5;167;01mException\u001b[39;00m:\n\u001b[0;32m   1315\u001b[0m     \u001b[38;5;28mself\u001b[39m\u001b[38;5;241m.\u001b[39mlog\u001b[38;5;241m.\u001b[39mwarning(\u001b[38;5;124m\"\u001b[39m\u001b[38;5;124mInvalid Message:\u001b[39m\u001b[38;5;124m\"\u001b[39m, exc_info\u001b[38;5;241m=\u001b[39m\u001b[38;5;28;01mTrue\u001b[39;00m)\n",
      "\u001b[1;31mKeyboardInterrupt\u001b[0m: Interrupted by user"
     ]
    }
   ],
   "source": [
    "abecedario = string.ascii_uppercase\n",
    "\n",
    "#Jugador1 - introducir la palabra con la que vamos a jugar\n",
    "palabra_adivinar= \"\"\n",
    "\n",
    "#Jugador2 - introducir la letra que vamos a comparar\n",
    "letra_jugada =\"\"\n",
    "\n",
    "contador_vidas = 6\n",
    "letras_falladas = []\n",
    "palabra_incognito = \"\"\n",
    "vidas= [\"------\\n|  |\\n|  O\\n| /|\\\\\\n| / \\\\\\n|------\\n\",\n",
    "        \"------\\n|  |\\n|  O\\n| /|\\\\\\n| / \\n|------\\n\",\n",
    "        \"------\\n|  |\\n|  O\\n| /|\\\\\\n| \\n|------\\n\",\n",
    "        \"------\\n|  |\\n|  O\\n| /|\\n| \\n|------\\n\",\n",
    "        \"------\\n|  |\\n|  O\\n| /\\n| \\n|------\\n\",\n",
    "        \"------\\n|  |\\n|  O\\n| \\n| \\n|------\\n\",\n",
    "        \"------\\n|  |\\n|  \\n| \\n| \\n|------\\n\"]\n",
    "continuar = True\n",
    "\n",
    "\n",
    "while continuar:\n",
    "    #Queremos jugar cuando se cumpla la siguiente condicion:\n",
    "    while vidas > 0 and palabra_incognito!= palabra_adivinar:\n",
    "         letra_jugada = input(\"Introducce una letra\") \n",
    "    \n",
    "    #     if letra_jugada.upper() in palabra_jugada:\n",
    "    #         print(f\"la letra {letra_jugada} esta en la palabra\")\n",
    "    #     else:\n",
    "    #         letra_jugada not in palabra_jugada\n",
    "    #         vidas -= 1\n",
    "    #         letras_falladas.append(letra_jugada)\n",
    "    #         print(\"letras falladas\",letras_falladas)\n",
    "    #         if vidas == 6:\n",
    "    #                 print(\"MUERTE\")\n",
    "\n",
    "\n",
    "    #Preguntamos si quiere continuar, para comenzar de nuevo el juego\n",
    "    #Aqui llegaria cuando tenga 0 vidas o la partida este ganada, se a ejecutar siempre.\n",
    "    \n",
    "    respuesta_continuar= input(\"¿Quieres seguir jugando, (S/N)?\")\n",
    "    continuar = respuesta_continuar == \"S\"\n",
    "    \n",
    "\n",
    "  "
   ]
  },
  {
   "cell_type": "code",
   "execution_count": null,
   "metadata": {},
   "outputs": [],
   "source": [
    "\n",
    "\n"
   ]
  }
 ],
 "metadata": {
  "kernelspec": {
   "display_name": "Python 3",
   "language": "python",
   "name": "python3"
  },
  "language_info": {
   "codemirror_mode": {
    "name": "ipython",
    "version": 3
   },
   "file_extension": ".py",
   "mimetype": "text/x-python",
   "name": "python",
   "nbconvert_exporter": "python",
   "pygments_lexer": "ipython3",
   "version": "3.12.1"
  }
 },
 "nbformat": 4,
 "nbformat_minor": 2
}
